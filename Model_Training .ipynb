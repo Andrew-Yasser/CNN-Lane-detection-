{
  "cells": [
    {
      "cell_type": "markdown",
      "metadata": {
        "id": "i5yGsJn6m34i"
      },
      "source": [
        "**Importing**"
      ]
    },
    {
      "cell_type": "code",
      "execution_count": null,
      "metadata": {
        "id": "AaUb_xojceQ0"
      },
      "outputs": [],
      "source": [
        "import numpy as np\n",
        "\n",
        "import pickle\n",
        "from sklearn.utils import shuffle\n",
        "from sklearn.model_selection import train_test_split\n",
        "\n",
        "# Import necessary items from Keras\n",
        "from keras.models import Sequential\n",
        "from keras.layers import Activation, Dropout, UpSampling2D\n",
        "from keras.layers import Conv2DTranspose, Conv2D, MaxPooling2D\n",
        "from keras.layers import BatchNormalization\n",
        "from keras.preprocessing.image import ImageDataGenerator\n",
        "from keras import regularizers\n",
        "\n",
        "from  matplotlib import pyplot as plt"
      ]
    },
    {
      "cell_type": "markdown",
      "metadata": {
        "id": "aP6cLI3ZnKOo"
      },
      "source": [
        "**Create your model**"
      ]
    },
    {
      "cell_type": "code",
      "execution_count": null,
      "metadata": {
        "id": "J45u5-TVnWXH"
      },
      "outputs": [],
      "source": [
        "def create_model(input_shape, pool_size):\n",
        "    # TODO: Create the Model sequentially\n",
        "    model = Sequential()\n",
        "    #Batch Normalization --Layer 1\n",
        "    model.add(BatchNormalization(input_shape=input_shape))\n",
        "\n",
        "    #Convolution + Relu --Layer 2\n",
        "    model.add(Conv2D(8, (3, 3), padding='valid', strides=(1,1), activation = 'relu'))\n",
        "\n",
        "    #Convolution + Relu --Layer 3\n",
        "    model.add(Conv2D(16, (3, 3), padding='valid', strides=(1,1), activation = 'relu'))\n",
        "\n",
        "    #Pooling --Layer 4\n",
        "    model.add(MaxPooling2D(pool_size=pool_size))\n",
        "\n",
        "    #Convolution + Relu (includes dropout) --Layer 5\n",
        "    model.add(Conv2D(16, (3, 3), padding='valid', strides=(1,1), activation = 'relu'))\n",
        "    model.add(Dropout(0.2))\n",
        "\n",
        "    #Convolution + Relu (includes dropout) --Layer 6\n",
        "    model.add(Conv2D(32, (3, 3), padding='valid', strides=(1,1), activation = 'relu'))\n",
        "    model.add(Dropout(0.2))\n",
        "\n",
        "    #Convolution + Relu (includes dropout) --Layer 7\n",
        "    model.add(Conv2D(32, (3, 3), padding='valid', strides=(1,1), activation = 'relu'))\n",
        "    model.add(Dropout(0.2))\n",
        "\n",
        "    #Pooling --Layer 8\n",
        "    model.add(MaxPooling2D(pool_size=pool_size))\n",
        "\n",
        "    #Convolution + Relu (includes dropout) --Layer 9\n",
        "    model.add(Conv2D(64, (3, 3), padding='valid', strides=(1,1), activation = 'relu'))\n",
        "    model.add(Dropout(0.2))\n",
        "\n",
        "    #Convolution + Relu (includes dropout) --Layer 10\n",
        "    model.add(Conv2D(64, (3, 3), padding='valid', strides=(1,1), activation = 'relu'))\n",
        "    model.add(Dropout(0.2))\n",
        "\n",
        "    #Pooling --Layer 11\n",
        "    model.add(MaxPooling2D(pool_size=pool_size))\n",
        "\n",
        "    #Upsampling --Layer 12\n",
        "    model.add(UpSampling2D(size=pool_size))\n",
        "\n",
        "    #Deconvolution + Relu (includes dropout) --Layer 13\n",
        "    model.add(Conv2DTranspose(64, (3, 3), padding='valid', strides=(1,1), activation = 'relu'))\n",
        "    model.add(Dropout(0.2))\n",
        "\n",
        "    #Deconvolution + Relu (includes dropout) --Layer 14\n",
        "    model.add(Conv2DTranspose(64, (3, 3), padding='valid', strides=(1,1), activation = 'relu'))\n",
        "    model.add(Dropout(0.2))\n",
        "\n",
        "    #Upsampling --Layer 15\n",
        "    model.add(UpSampling2D(size=pool_size))\n",
        "\n",
        "    #Deconvolution + Relu (includes dropout) --Layer 16\n",
        "    model.add(Conv2DTranspose(32, (3, 3), padding='valid', strides=(1,1), activation = 'relu'))\n",
        "    model.add(Dropout(0.2))\n",
        "\n",
        "    #Deconvolution + Relu (includes dropout) --Layer 17\n",
        "    model.add(Conv2DTranspose(32, (3, 3), padding='valid', strides=(1,1), activation = 'relu'))\n",
        "    model.add(Dropout(0.2))\n",
        "\n",
        "    #Deconvolution + Relu (includes dropout) --Layer 18\n",
        "    model.add(Conv2DTranspose(16, (3, 3), padding='valid', strides=(1,1), activation = 'relu'))\n",
        "    model.add(Dropout(0.2))\n",
        "\n",
        "    #Upsampling --Layer 19\n",
        "    model.add(UpSampling2D(size=pool_size))\n",
        "\n",
        "    #Deconvolution + Relu --Layer 20\n",
        "    model.add(Conv2DTranspose(16, (3, 3), padding='valid', strides=(1,1), activation = 'relu'))\n",
        "\n",
        "    #Deconvolution + Relu -- Final Layer 21 \n",
        "    model.add(Conv2DTranspose(1, (3, 3), padding='valid', strides=(1,1), activation = 'relu'))\n",
        " \n",
        "    \n",
        "    return model"
      ]
    },
    {
      "cell_type": "markdown",
      "metadata": {
        "id": "xh5S2AqYndc2"
      },
      "source": [
        "**Load the data**"
      ]
    },
    {
      "cell_type": "code",
      "execution_count": null,
      "metadata": {
        "colab": {
          "base_uri": "https://localhost:8080/"
        },
        "id": "f8WSphJ8tGAP",
        "outputId": "4fcb9f11-c728-4367-bed3-a09ae03e47d2"
      },
      "outputs": [
        {
          "output_type": "stream",
          "name": "stdout",
          "text": [
            "Drive already mounted at /content/drive; to attempt to forcibly remount, call drive.mount(\"/content/drive\", force_remount=True).\n"
          ]
        }
      ],
      "source": [
        "from google.colab import drive\n",
        "drive.mount('/content/drive')"
      ]
    },
    {
      "cell_type": "code",
      "execution_count": null,
      "metadata": {
        "colab": {
          "base_uri": "https://localhost:8080/"
        },
        "id": "JeEJxAb3nfBC",
        "outputId": "72819b1a-191c-4e6f-c0d5-9c7ec3ec8a17"
      },
      "outputs": [
        {
          "output_type": "execute_result",
          "data": {
            "text/plain": [
              "(12764, 80, 160, 3)"
            ]
          },
          "metadata": {},
          "execution_count": 4
        }
      ],
      "source": [
        "# Load training images\n",
        "train_images = pickle.load(open(\"/content/drive/MyDrive/Deep _learning _project/full_CNN_train.p\", \"rb\" ))\n",
        "# train_images= tf.image.decode_png(train_images,channels= 3)\n",
        "# train_images= tf.image.convert_image_dtype(train_images,tf.float32)\n",
        "\n",
        "\n",
        "# Load image labels\n",
        "labels = pickle.load(open(\"/content/drive/MyDrive/Deep _learning _project/full_CNN_labels.p\", \"rb\" ))\n",
        "\n",
        "# Make into arrays as the neural network wants these\n",
        "train_images = np.array(train_images)\n",
        "labels = np.array(labels)\n",
        "labels = (labels>128).astype('uint8')\n",
        "\n",
        "\n"
      ]
    },
    {
      "cell_type": "markdown",
      "metadata": {
        "id": "ghGRs3l-njVX"
      },
      "source": [
        "**see dimensions of the data**"
      ]
    },
    {
      "cell_type": "code",
      "execution_count": null,
      "metadata": {
        "id": "wBh7QEhznsmq",
        "colab": {
          "base_uri": "https://localhost:8080/"
        },
        "outputId": "d89dc0a4-c2fc-4a4e-d04c-022564ff4948"
      },
      "outputs": [
        {
          "output_type": "execute_result",
          "data": {
            "text/plain": [
              "(12764, 80, 160, 3)"
            ]
          },
          "metadata": {},
          "execution_count": 6
        }
      ],
      "source": [
        "train_images.shape"
      ]
    },
    {
      "cell_type": "markdown",
      "metadata": {
        "id": "dJp-6j3AnuuC"
      },
      "source": [
        "**Create the train and test splits**"
      ]
    },
    {
      "cell_type": "code",
      "execution_count": null,
      "metadata": {
        "id": "GAZdKCfUnmGk"
      },
      "outputs": [],
      "source": [
        "# Shuffle images along with their labels, then split into training/validation sets\n",
        "train_images, labels = shuffle(train_images, labels)\n",
        "# Test size may be 10% or 20%\n",
        "X_train, X_val, y_train, y_val = train_test_split(train_images, labels, test_size=0.1)\n"
      ]
    },
    {
      "cell_type": "code",
      "execution_count": null,
      "metadata": {
        "id": "A6-Jb3Fs1VDv"
      },
      "outputs": [],
      "source": [
        "datagen = ImageDataGenerator(\n",
        "    #featurewise_center=False\n",
        "    #zca_whitening=True,\n",
        "    #width_shift_range=5.0,\n",
        "    #height_shift_range=5.0,\n",
        "    brightness_range=[0.2,1],\n",
        "    channel_shift_range= 20   \n",
        ")\n",
        "datagen.fit(X_train)"
      ]
    },
    {
      "cell_type": "markdown",
      "metadata": {
        "id": "Zh27cpVin3Ko"
      },
      "source": [
        "**Train your model**"
      ]
    },
    {
      "cell_type": "code",
      "execution_count": null,
      "metadata": {
        "colab": {
          "base_uri": "https://localhost:8080/"
        },
        "id": "oiZQRyQ0n5sr",
        "outputId": "04facb99-2e7a-4489-a7f0-0226f09f31da"
      },
      "outputs": [
        {
          "output_type": "stream",
          "name": "stderr",
          "text": [
            "/usr/local/lib/python3.7/dist-packages/ipykernel_launcher.py:11: UserWarning: `Model.fit_generator` is deprecated and will be removed in a future version. Please use `Model.fit`, which supports generators.\n",
            "  # This is added back by InteractiveShellApp.init_path()\n"
          ]
        },
        {
          "output_type": "stream",
          "name": "stdout",
          "text": [
            "Epoch 1/10\n",
            "164/164 [==============================] - 38s 195ms/step - loss: 0.0440 - accuracy: 0.9422 - val_loss: 0.0175 - val_accuracy: 0.9791\n",
            "Epoch 2/10\n",
            "164/164 [==============================] - 29s 179ms/step - loss: 0.0157 - accuracy: 0.9803 - val_loss: 0.0125 - val_accuracy: 0.9840\n",
            "Epoch 3/10\n",
            "164/164 [==============================] - 30s 181ms/step - loss: 0.0126 - accuracy: 0.9838 - val_loss: 0.0114 - val_accuracy: 0.9862\n",
            "Epoch 4/10\n",
            "164/164 [==============================] - 30s 181ms/step - loss: 0.0114 - accuracy: 0.9851 - val_loss: 0.0100 - val_accuracy: 0.9872\n",
            "Epoch 5/10\n",
            "164/164 [==============================] - 30s 180ms/step - loss: 0.0108 - accuracy: 0.9857 - val_loss: 0.0098 - val_accuracy: 0.9875\n",
            "Epoch 6/10\n",
            "164/164 [==============================] - 30s 181ms/step - loss: 0.0103 - accuracy: 0.9862 - val_loss: 0.0090 - val_accuracy: 0.9880\n",
            "Epoch 7/10\n",
            "164/164 [==============================] - 30s 180ms/step - loss: 0.0100 - accuracy: 0.9865 - val_loss: 0.0088 - val_accuracy: 0.9883\n",
            "Epoch 8/10\n",
            "164/164 [==============================] - 30s 180ms/step - loss: 0.0098 - accuracy: 0.9867 - val_loss: 0.0092 - val_accuracy: 0.9878\n",
            "Epoch 9/10\n",
            "164/164 [==============================] - 30s 180ms/step - loss: 0.0096 - accuracy: 0.9870 - val_loss: 0.0084 - val_accuracy: 0.9889\n",
            "Epoch 10/10\n",
            "164/164 [==============================] - 30s 181ms/step - loss: 0.0094 - accuracy: 0.9875 - val_loss: 0.0082 - val_accuracy: 0.9893\n"
          ]
        },
        {
          "output_type": "execute_result",
          "data": {
            "text/plain": [
              "<keras.callbacks.History at 0x7f3f3399e750>"
            ]
          },
          "metadata": {},
          "execution_count": 10
        }
      ],
      "source": [
        "# TODO: Train your model\n",
        "pool_size = (2, 2)\n",
        "input_shape = X_train.shape[1:]\n",
        "batch_size=70\n",
        "epochs=10\n",
        "# Create the neural network\n",
        "model = create_model(input_shape, pool_size)\n",
        "model.compile(optimizer='adam', loss='mean_squared_error', metrics=['accuracy'])\n",
        "#model.fit(X_train, y_train, epochs=6, batch_size=128)\n",
        "model.fit_generator(datagen.flow(X_train, y_train, batch_size=batch_size), steps_per_epoch=len(X_train)/batch_size,\n",
        "    epochs=epochs, verbose=1, validation_data=(X_val, y_val))\n"
      ]
    },
    {
      "cell_type": "markdown",
      "metadata": {
        "id": "mdV55mUJn9X4"
      },
      "source": [
        "**Save your model**"
      ]
    },
    {
      "cell_type": "code",
      "execution_count": null,
      "metadata": {
        "colab": {
          "base_uri": "https://localhost:8080/"
        },
        "id": "G-webyESoAmJ",
        "outputId": "acc4e22b-8096-42ad-9b47-9e139c4f693b"
      },
      "outputs": [
        {
          "output_type": "stream",
          "name": "stdout",
          "text": [
            "Model: \"sequential\"\n",
            "_________________________________________________________________\n",
            " Layer (type)                Output Shape              Param #   \n",
            "=================================================================\n",
            " batch_normalization (BatchN  (None, 80, 160, 3)       12        \n",
            " ormalization)                                                   \n",
            "                                                                 \n",
            " conv2d (Conv2D)             (None, 78, 158, 8)        224       \n",
            "                                                                 \n",
            " conv2d_1 (Conv2D)           (None, 76, 156, 16)       1168      \n",
            "                                                                 \n",
            " max_pooling2d (MaxPooling2D  (None, 38, 78, 16)       0         \n",
            " )                                                               \n",
            "                                                                 \n",
            " conv2d_2 (Conv2D)           (None, 36, 76, 16)        2320      \n",
            "                                                                 \n",
            " dropout (Dropout)           (None, 36, 76, 16)        0         \n",
            "                                                                 \n",
            " conv2d_3 (Conv2D)           (None, 34, 74, 32)        4640      \n",
            "                                                                 \n",
            " dropout_1 (Dropout)         (None, 34, 74, 32)        0         \n",
            "                                                                 \n",
            " conv2d_4 (Conv2D)           (None, 32, 72, 32)        9248      \n",
            "                                                                 \n",
            " dropout_2 (Dropout)         (None, 32, 72, 32)        0         \n",
            "                                                                 \n",
            " max_pooling2d_1 (MaxPooling  (None, 16, 36, 32)       0         \n",
            " 2D)                                                             \n",
            "                                                                 \n",
            " conv2d_5 (Conv2D)           (None, 14, 34, 64)        18496     \n",
            "                                                                 \n",
            " dropout_3 (Dropout)         (None, 14, 34, 64)        0         \n",
            "                                                                 \n",
            " conv2d_6 (Conv2D)           (None, 12, 32, 64)        36928     \n",
            "                                                                 \n",
            " dropout_4 (Dropout)         (None, 12, 32, 64)        0         \n",
            "                                                                 \n",
            " max_pooling2d_2 (MaxPooling  (None, 6, 16, 64)        0         \n",
            " 2D)                                                             \n",
            "                                                                 \n",
            " up_sampling2d (UpSampling2D  (None, 12, 32, 64)       0         \n",
            " )                                                               \n",
            "                                                                 \n",
            " conv2d_transpose (Conv2DTra  (None, 14, 34, 64)       36928     \n",
            " nspose)                                                         \n",
            "                                                                 \n",
            " dropout_5 (Dropout)         (None, 14, 34, 64)        0         \n",
            "                                                                 \n",
            " conv2d_transpose_1 (Conv2DT  (None, 16, 36, 64)       36928     \n",
            " ranspose)                                                       \n",
            "                                                                 \n",
            " dropout_6 (Dropout)         (None, 16, 36, 64)        0         \n",
            "                                                                 \n",
            " up_sampling2d_1 (UpSampling  (None, 32, 72, 64)       0         \n",
            " 2D)                                                             \n",
            "                                                                 \n",
            " conv2d_transpose_2 (Conv2DT  (None, 34, 74, 32)       18464     \n",
            " ranspose)                                                       \n",
            "                                                                 \n",
            " dropout_7 (Dropout)         (None, 34, 74, 32)        0         \n",
            "                                                                 \n",
            " conv2d_transpose_3 (Conv2DT  (None, 36, 76, 32)       9248      \n",
            " ranspose)                                                       \n",
            "                                                                 \n",
            " dropout_8 (Dropout)         (None, 36, 76, 32)        0         \n",
            "                                                                 \n",
            " conv2d_transpose_4 (Conv2DT  (None, 38, 78, 16)       4624      \n",
            " ranspose)                                                       \n",
            "                                                                 \n",
            " dropout_9 (Dropout)         (None, 38, 78, 16)        0         \n",
            "                                                                 \n",
            " up_sampling2d_2 (UpSampling  (None, 76, 156, 16)      0         \n",
            " 2D)                                                             \n",
            "                                                                 \n",
            " conv2d_transpose_5 (Conv2DT  (None, 78, 158, 16)      2320      \n",
            " ranspose)                                                       \n",
            "                                                                 \n",
            " conv2d_transpose_6 (Conv2DT  (None, 80, 160, 1)       145       \n",
            " ranspose)                                                       \n",
            "                                                                 \n",
            "=================================================================\n",
            "Total params: 181,693\n",
            "Trainable params: 181,687\n",
            "Non-trainable params: 6\n",
            "_________________________________________________________________\n"
          ]
        }
      ],
      "source": [
        "# Save model architecture and weights\n",
        "model.save('full_CNN_model.h5')\n",
        "\n",
        "# Show summary of model\n",
        "model.summary()"
      ]
    }
  ],
  "metadata": {
    "accelerator": "GPU",
    "colab": {
      "collapsed_sections": [],
      "name": "Model_Training.ipynb",
      "provenance": []
    },
    "kernelspec": {
      "display_name": "Python 3",
      "name": "python3"
    },
    "language_info": {
      "name": "python"
    }
  },
  "nbformat": 4,
  "nbformat_minor": 0
}